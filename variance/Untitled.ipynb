{
 "cells": [
  {
   "cell_type": "code",
   "execution_count": 1,
   "metadata": {},
   "outputs": [],
   "source": [
    "import pandas as pd"
   ]
  },
  {
   "cell_type": "code",
   "execution_count": 2,
   "metadata": {},
   "outputs": [],
   "source": [
    "df = pd.read_csv(\"variance.csv\")"
   ]
  },
  {
   "cell_type": "code",
   "execution_count": 3,
   "metadata": {},
   "outputs": [],
   "source": [
    "mean = df[\"Overall Marks\"].mean()"
   ]
  },
  {
   "cell_type": "code",
   "execution_count": 4,
   "metadata": {},
   "outputs": [
    {
     "data": {
      "text/plain": [
       "164.24"
      ]
     },
     "execution_count": 4,
     "metadata": {},
     "output_type": "execute_result"
    }
   ],
   "source": [
    "mean"
   ]
  },
  {
   "cell_type": "code",
   "execution_count": 6,
   "metadata": {},
   "outputs": [],
   "source": [
    "difference = df[\"Overall Marks\"] - mean"
   ]
  },
  {
   "cell_type": "code",
   "execution_count": 7,
   "metadata": {},
   "outputs": [
    {
     "data": {
      "text/plain": [
       "0     9535.76\n",
       "1      -81.24\n",
       "2      -86.24\n",
       "3      -78.24\n",
       "4      -73.24\n",
       "5     -149.24\n",
       "6      -81.24\n",
       "7     -100.24\n",
       "8      -98.24\n",
       "9     -106.24\n",
       "10    -102.24\n",
       "11    -102.24\n",
       "12    -144.24\n",
       "13     -79.24\n",
       "14    -115.24\n",
       "15     -72.24\n",
       "16    -143.24\n",
       "17    -149.24\n",
       "18    -118.24\n",
       "19     -64.24\n",
       "20    -146.24\n",
       "21     -94.24\n",
       "22     -82.24\n",
       "23     -76.24\n",
       "24     -76.24\n",
       "25     -64.24\n",
       "26     -78.24\n",
       "27    -104.24\n",
       "28     -76.24\n",
       "29    -145.24\n",
       "       ...   \n",
       "70     -73.24\n",
       "71    -164.24\n",
       "72     -65.24\n",
       "73     -86.24\n",
       "74    -101.24\n",
       "75     -66.24\n",
       "76     -66.24\n",
       "77     -66.24\n",
       "78    -100.24\n",
       "79     -83.24\n",
       "80     -88.24\n",
       "81     -84.24\n",
       "82     -67.24\n",
       "83    -146.24\n",
       "84     -74.24\n",
       "85     -93.24\n",
       "86     -97.24\n",
       "87     -91.24\n",
       "88     -71.24\n",
       "89     -86.24\n",
       "90     -90.24\n",
       "91     -65.24\n",
       "92     -91.24\n",
       "93    -147.24\n",
       "94    -164.24\n",
       "95     -87.24\n",
       "96    -109.24\n",
       "97    -157.24\n",
       "98     -91.24\n",
       "99     -82.24\n",
       "Name: Overall Marks, Length: 100, dtype: float64"
      ]
     },
     "execution_count": 7,
     "metadata": {},
     "output_type": "execute_result"
    }
   ],
   "source": [
    "difference"
   ]
  },
  {
   "cell_type": "code",
   "execution_count": 8,
   "metadata": {},
   "outputs": [],
   "source": [
    "sq_diff = difference ** 2"
   ]
  },
  {
   "cell_type": "code",
   "execution_count": 9,
   "metadata": {},
   "outputs": [
    {
     "data": {
      "text/plain": [
       "0     9.093072e+07\n",
       "1     6.599938e+03\n",
       "2     7.437338e+03\n",
       "3     6.121498e+03\n",
       "4     5.364098e+03\n",
       "5     2.227258e+04\n",
       "6     6.599938e+03\n",
       "7     1.004806e+04\n",
       "8     9.651098e+03\n",
       "9     1.128694e+04\n",
       "10    1.045302e+04\n",
       "11    1.045302e+04\n",
       "12    2.080518e+04\n",
       "13    6.278978e+03\n",
       "14    1.328026e+04\n",
       "15    5.218618e+03\n",
       "16    2.051770e+04\n",
       "17    2.227258e+04\n",
       "18    1.398070e+04\n",
       "19    4.126778e+03\n",
       "20    2.138614e+04\n",
       "21    8.881178e+03\n",
       "22    6.763418e+03\n",
       "23    5.812538e+03\n",
       "24    5.812538e+03\n",
       "25    4.126778e+03\n",
       "26    6.121498e+03\n",
       "27    1.086598e+04\n",
       "28    5.812538e+03\n",
       "29    2.109466e+04\n",
       "          ...     \n",
       "70    5.364098e+03\n",
       "71    2.697478e+04\n",
       "72    4.256258e+03\n",
       "73    7.437338e+03\n",
       "74    1.024954e+04\n",
       "75    4.387738e+03\n",
       "76    4.387738e+03\n",
       "77    4.387738e+03\n",
       "78    1.004806e+04\n",
       "79    6.928898e+03\n",
       "80    7.786298e+03\n",
       "81    7.096378e+03\n",
       "82    4.521218e+03\n",
       "83    2.138614e+04\n",
       "84    5.511578e+03\n",
       "85    8.693698e+03\n",
       "86    9.455618e+03\n",
       "87    8.324738e+03\n",
       "88    5.075138e+03\n",
       "89    7.437338e+03\n",
       "90    8.143258e+03\n",
       "91    4.256258e+03\n",
       "92    8.324738e+03\n",
       "93    2.167962e+04\n",
       "94    2.697478e+04\n",
       "95    7.610818e+03\n",
       "96    1.193338e+04\n",
       "97    2.472442e+04\n",
       "98    8.324738e+03\n",
       "99    6.763418e+03\n",
       "Name: Overall Marks, Length: 100, dtype: float64"
      ]
     },
     "execution_count": 9,
     "metadata": {},
     "output_type": "execute_result"
    }
   ],
   "source": [
    "sq_diff"
   ]
  },
  {
   "cell_type": "code",
   "execution_count": 10,
   "metadata": {},
   "outputs": [],
   "source": [
    "variance = sq_diff.mean()"
   ]
  },
  {
   "cell_type": "code",
   "execution_count": 11,
   "metadata": {},
   "outputs": [
    {
     "data": {
      "text/plain": [
       "919170.8423999996"
      ]
     },
     "execution_count": 11,
     "metadata": {},
     "output_type": "execute_result"
    }
   ],
   "source": [
    "variance"
   ]
  },
  {
   "cell_type": "code",
   "execution_count": 12,
   "metadata": {},
   "outputs": [],
   "source": [
    "#or"
   ]
  },
  {
   "cell_type": "code",
   "execution_count": 18,
   "metadata": {},
   "outputs": [],
   "source": [
    "variance = df[\"Overall Marks\"].var(ddof = 0)"
   ]
  },
  {
   "cell_type": "code",
   "execution_count": 19,
   "metadata": {},
   "outputs": [
    {
     "data": {
      "text/plain": [
       "919170.8423999996"
      ]
     },
     "execution_count": 19,
     "metadata": {},
     "output_type": "execute_result"
    }
   ],
   "source": [
    "variance"
   ]
  },
  {
   "cell_type": "code",
   "execution_count": 20,
   "metadata": {},
   "outputs": [],
   "source": [
    "std = df[\"Overall Marks\"].std(ddof = 0)"
   ]
  },
  {
   "cell_type": "code",
   "execution_count": 21,
   "metadata": {},
   "outputs": [
    {
     "data": {
      "text/plain": [
       "958.7339789534944"
      ]
     },
     "execution_count": 21,
     "metadata": {},
     "output_type": "execute_result"
    }
   ],
   "source": [
    "std"
   ]
  },
  {
   "cell_type": "code",
   "execution_count": null,
   "metadata": {},
   "outputs": [],
   "source": []
  }
 ],
 "metadata": {
  "kernelspec": {
   "display_name": "Python 3",
   "language": "python",
   "name": "python3"
  },
  "language_info": {
   "codemirror_mode": {
    "name": "ipython",
    "version": 3
   },
   "file_extension": ".py",
   "mimetype": "text/x-python",
   "name": "python",
   "nbconvert_exporter": "python",
   "pygments_lexer": "ipython3",
   "version": "3.6.5"
  }
 },
 "nbformat": 4,
 "nbformat_minor": 2
}
